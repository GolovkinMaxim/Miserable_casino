{
 "cells": [
  {
   "cell_type": "markdown",
   "metadata": {},
   "source": [
    "Задача: Нечистое на руку казино  \n",
    "Студент: Головкин М.А. МСКМ-191  "
   ]
  },
  {
   "cell_type": "markdown",
   "metadata": {},
   "source": [
    "В казино почти всегда используется правильная игральная кость, но иногда ее подменяют неправильной. Неправильная кость имеет вероятность 0.5 выпадения шестерки и вероятность 0.1 выпадения остальных чисеел от 1 до 5. Предположим, что казино подменяет правильную кость неправильной с вероятностью 0.05 перед каждым броском, а вероятность обратной подмены равна 0.1."
   ]
  },
  {
   "cell_type": "code",
   "execution_count": 1,
   "metadata": {
    "collapsed": true
   },
   "outputs": [],
   "source": [
    "# Используемые библиотеки\n",
    "import numpy as np\n",
    "import matplotlib.pyplot as plt\n",
    "plt.rc('font', family='Verdana')\n",
    "import copy\n",
    "import time\n",
    "from IPython.display import Image \n",
    "%matplotlib inline"
   ]
  },
  {
   "cell_type": "markdown",
   "metadata": {},
   "source": [
    "Общие функции, используемые для реализации алгоритмов."
   ]
  },
  {
   "cell_type": "code",
   "execution_count": 2,
   "metadata": {
    "collapsed": false
   },
   "outputs": [],
   "source": [
    "# Функция расчета предельного (стационарного) распределения квадратной матрицы А\n",
    "# Входной параметр: квадратная матрица \n",
    "# Выходной параметр: массив предельного (стационарного) распределения\n",
    "def stationary_distribution(A):\n",
    "    n = len(A)\n",
    "    M1 = np.vstack(((A.transpose() - np.eye(n))[:-1],np.ones(n)))\n",
    "    v1 = np.eye(n)[-1]\n",
    "    p = np.linalg.solve(M1,v1)\n",
    "    return p\n",
    "\n",
    "# Функция перевода из номеров в обозначения F и L\n",
    "# Входной параметр: массив из 0 и 1, обозначающий состояния\n",
    "# Выходной параметр: строка из F и L, обозначающая состояния\n",
    "def translation(l):\n",
    "    L = len(l)\n",
    "    c = ''\n",
    "    dec = {0:'F', 1:'L'}\n",
    "    for i in range(L):\n",
    "        c += dec[l[i]]\n",
    "    return c\n",
    "\n",
    "# Фукнция создания вектора наблюдений x и вектора действительных состояний l \n",
    "# Входные параметры: матрица переходных вероятностей, матрица эмиссий, длина последовательности \n",
    "# Выходной параметр: массивы действителььных состояний и наблюдений\n",
    "def Observation(A, E, L):\n",
    "    M = len(E)\n",
    "    R = len(E.transpose())\n",
    "    x = np.zeros((L,), dtype=int)\n",
    "    l = np.zeros((L,), dtype=int)\n",
    "    stat_dist = stationary_distribution(A)\n",
    "    r1 = np.random.random()\n",
    "    flag1 = 0 \n",
    "    for i in range(M):\n",
    "        if r1 < (flag1 + stat_dist[i]):\n",
    "            l[0] = i\n",
    "            r2 = np.random.random()\n",
    "            flag2 = 0\n",
    "            for j in range(R):\n",
    "                if r2 < (flag2 + E[i,j]):\n",
    "                    x[0] = j+1\n",
    "                    break;\n",
    "                flag2 += E[i,j]\n",
    "            break;\n",
    "        flag1 += stat_dist[i]\n",
    "    for k in range(1,L):\n",
    "        r1 = np.random.random()\n",
    "        flag1 = 0\n",
    "        for i in range(M):\n",
    "            if r1 < (flag1 + A[l[k-1],i]):\n",
    "                l[k] = i\n",
    "                r2 = np.random.random()\n",
    "                flag2 = 0\n",
    "                for j in range(R):\n",
    "                    if r2 < (flag2 + E[i,j]):\n",
    "                        x[k] = j+1\n",
    "                        break;\n",
    "                    flag2 += E[i,j]\n",
    "                break;\n",
    "            flag1 += A[l[k-1],i]\n",
    "    return l, x\n"
   ]
  },
  {
   "cell_type": "markdown",
   "metadata": {},
   "source": [
    "**АЛГОРИТМ ВИТЕРБИ**"
   ]
  },
  {
   "cell_type": "markdown",
   "metadata": {},
   "source": [
    "Функции, необходимые для реализации алгоритма Витерби"
   ]
  },
  {
   "cell_type": "code",
   "execution_count": 3,
   "metadata": {
    "collapsed": true
   },
   "outputs": [],
   "source": [
    "# Алгоритм Витерби для поиска наиболее вероятного пути\n",
    "# Входные параметры: матрица переходных вероятностей, матрица эмиссий, длина последовательности \n",
    "# Выходной параметр: массив наиболее вероятных состояний\n",
    "def Algorithm_Viterby(Rolls, A, E):\n",
    "    L = len(Rolls)\n",
    "    M = len(E)\n",
    "    V = np.zeros((M, L))\n",
    "    Ptr = np.zeros((M, L))\n",
    "    m = np.zeros(L)\n",
    "    V[:, 0] = stationary_distribution(A)*E[:, Rolls[0] - 1]\n",
    "    m[0] = max(V[:, 0])\n",
    "    V[:, 0] /= m[0]\n",
    "    for i in range(1, L):\n",
    "        for j in range(M):\n",
    "            S = E[j, Rolls[i]-1]*V[:, i-1]*A[:, j]\n",
    "            V[j,i] = max(S)\n",
    "            Ptr[j,i] = np.argmax(S)\n",
    "    P = np.zeros(L)\n",
    "    P[-1] = np.argmax(V[:,-1])\n",
    "    for i in range(L-2,-1,-1):\n",
    "        P[i] = Ptr[int(P[i+1]),i+1]\n",
    "    Real = translation(P)\n",
    "    return Real\n",
    "\n",
    "# Функция печати наблюдений и состояний для алгоритма Витерби\n",
    "# Входные параметры: массивы действительных состояний и наблюдений, массив наиболее вероятных наблюдений, ширина выводных строк\n",
    "# Выходной параметр: выведенные на экран входные массивы, частота верно определенных состояний\n",
    "def print_model_Viterby(Die, Rolls, Viterby, d):\n",
    "    L = len(Rolls)\n",
    "    Die = translation(Die)\n",
    "    for j in range (L//d):\n",
    "        print('Rolls:   ', end = '')\n",
    "        for i in range(d*j, d*(j+1)):\n",
    "            print(Rolls[i], end = '')\n",
    "        print('\\nDie:     ', end = '')\n",
    "        print(''.join(Die[d*j:d*(j+1)]))\n",
    "        print('Viterby: ', end = '')\n",
    "        print(''.join(Viterby[d*j:d*(j+1)]),'\\n')\n",
    "    if (L % d) !=0:\n",
    "        print('Rolls:   ', end = '')\n",
    "        for i in range(L-L % d, L):\n",
    "            print(Rolls[i], end = '')\n",
    "        print('\\nDie:     ', end = '')\n",
    "        print(''.join(Die[L-L % d:]))\n",
    "        print('Viterby: ', end = '')\n",
    "        print(''.join(Viterby[L-L % d:]))\n",
    "    s = 0\n",
    "    for i in range(L):\n",
    "        if Die[i] == Viterby[i]:\n",
    "            s+=1\n",
    "    print('\\nЧастота совпадения:', s/L)"
   ]
  },
  {
   "cell_type": "markdown",
   "metadata": {},
   "source": [
    "Переменные, необходимые для тестирования алгоритма Витерби.  \n",
    "А - матрица переходных вероятностей  \n",
    "E - матрица эмиссий  "
   ]
  },
  {
   "cell_type": "code",
   "execution_count": 4,
   "metadata": {
    "collapsed": false
   },
   "outputs": [
    {
     "name": "stdout",
     "output_type": "stream",
     "text": [
      "A:\n",
      "[[ 0.95  0.05]\n",
      " [ 0.1   0.9 ]]\n",
      "E:\n",
      "[[ 0.16666667  0.16666667  0.16666667  0.16666667  0.16666667  0.16666667]\n",
      " [ 0.1         0.1         0.1         0.1         0.1         0.5       ]]\n"
     ]
    }
   ],
   "source": [
    "A = np.array([[0.95,0.05],[0.1,0.9]])\n",
    "E = np.array([[1/6,1/6,1/6,1/6,1/6,1/6],[0.1,0.1,0.1,0.1,0.1,0.5]])\n",
    "print('A:', A, 'E:', E, sep = '\\n')"
   ]
  },
  {
   "cell_type": "markdown",
   "metadata": {},
   "source": [
    "Изображение результатов алгоритма Витерби для последовательности длиной 300  \n",
    "L - длина последовательности  \n",
    "Rolls - массив наблюдений  \n",
    "Die - массив действительных состояний  \n",
    "Viterby - массив наиболее вероятных состояний "
   ]
  },
  {
   "cell_type": "code",
   "execution_count": 5,
   "metadata": {
    "collapsed": false
   },
   "outputs": [
    {
     "name": "stdout",
     "output_type": "stream",
     "text": [
      "Rolls:   32344241254654511321345152555413141651222521411221416156653432362554633456632454313254236533641154665441136165\n",
      "Die:     FFFFFFFFFFFFFFFFFFFFFFFFFFFFFFFFFFFFFFFFFFFFFFFFFFFFFFFFFFFFFFFFFFFLLFFFFFFFFFFFFFFFFFFFFFFFFFFFFFFFFFFFLLLLLL\n",
      "Viterby: FFFFFFFFFFFFFFFFFFFFFFFFFFFFFFFFFFFFFFFFFFFFFFFFFFFFFFFFFFFFFFFFFFFFFFFFFFFFFFFFFFFFFFFFFFFFFFFFFFFFFFFFFFLLLL \n",
      "\n",
      "Rolls:   56666266665613212655612632621145155151636225166632216363636254664524123255646456525523212222461432512452415212\n",
      "Die:     LLLLLLLLLLFFFFFFFFFFFFFFFFFFFFFFFFFFFFFFFFFFLLLLLLLLLLLFFFFFFFFFFFFFFFFFFFFLLLFFFFFFFFFFFFFFFFFFFFFFFFFFFFFFFF\n",
      "Viterby: LLLLLLLLLLLLFFFFFFFFFFFFFFFFFFFFFFFFFFFFFFFFFFFFFFFFFFFFFFFFFFFFFFFFFFFFFFFFFFFFFFFFFFFFFFFFFFFFFFFFFFFFFFFFFF \n",
      "\n",
      "Rolls:   64155134415366613261526452654343646641245241256623446316124666662563244163511156\n",
      "Die:     FFFFFFFFFFFFLLLLLLLLFFFFFFFFFFFFFFFFFFFFFLLFFFFFFFFFFFFLLLLLLLLLLFFFFFFFFFFFFFFF\n",
      "Viterby: FFFFFFFFFFFFFFFFFFFFFFFFFFFFFFFFFFFFFFFFFFFFFFFFFFFFFFFFFFFLLLLLFFFFFFFFFFFFFFFF\n",
      "\n",
      "Частота совпадения: 0.8833333333333333\n"
     ]
    }
   ],
   "source": [
    "L = 300\n",
    "Die, Rolls = Observation(A, E, L)\n",
    "Viterby = Algorithm_Viterby(Rolls, A, E)\n",
    "print_model_Viterby(Die, Rolls, Viterby, 110)"
   ]
  },
  {
   "cell_type": "markdown",
   "metadata": {},
   "source": [
    "Изображение результатов алгоритма Витерби для последовательности длиной 1000  \n",
    "L - длина последовательности  \n",
    "Rolls - массив наблюдений  \n",
    "Die - массив действительных состояний  \n",
    "Viterby - массив наиболее вероятных состояний  "
   ]
  },
  {
   "cell_type": "code",
   "execution_count": 6,
   "metadata": {
    "collapsed": false
   },
   "outputs": [
    {
     "name": "stdout",
     "output_type": "stream",
     "text": [
      "Rolls:   16366214666526143153462244413122424664566315663142133362415254241421641556452435646655544525435232161333666466\n",
      "Die:     FFFFFFFFLLLLLLFFFFFFFFFFFFLLFFFFFFFFFFFFFFFFFFFFFFFFFFFFFFFFFFFFFFFFFFFFFFFFFLLLLLLLFFFFFFFFFFFFFFFFFFLLLLLLLL\n",
      "Viterby: LLLLLLLLLLLFFFFFFFFFFFFFFFFFFFFFFFFFFFFFFFFFFFFFFFFFFFFFFFFFFFFFFFFFFFFFFFFFFFFFFFFFFFFFFFFFFFFFFFFFFFFFLLLLLL \n",
      "\n",
      "Rolls:   56463653553436512255333622521441464241334136363226666425661262436512166226265665446666664666646666266146563564\n",
      "Die:     LLLLFFFFFFFFFFFFFFFFFFFFFFFFFFFFFFFFFFFFFLLLLLFFFFLLLLLLLLFFFFFFFFFFLLLLFFFLLLFFLLLLLLLLLLLLLLLLLLLLLLLLLLLLLF\n",
      "Viterby: LLLLLLFFFFFFFFFFFFFFFFFFFFFFFFFFFFFFFFFFFFFFFFFFFLLLLLLLLLLLLLLLLLLLLLLLLLLLLLLLLLLLLLLLLLLLLLLLLLLLLLLLLLFFFF \n",
      "\n",
      "Rolls:   33561115242463553366646561426156612213646366653346424663146513631543161361654456146664566416465656266136161646\n",
      "Die:     FFFFFFFFLLLLLLLLLLLLLLLFFFFFFFFFFFFFFFLLLLLLLLLLLLFFFFFFFFFFFFFFFFFFFFFFLLLFFFLLLLLLLLLLLLLLLLLLLLLLLLLLLLLLLL\n",
      "Viterby: FFFFFFFFFFFFFFFFFFLLLLLLLLLLLLLLLLLLLLLLLLLLLFFFFFFFFFFFFFFFFFFFFFFFFFFFFFFFFFFFFFLLLLLLLLLLLLLLLLLLLLLLLLLLLL \n",
      "\n",
      "Rolls:   66464636526666116212553553124511314636625625311561646624352363416663624515454663335414326611451411325251564261\n",
      "Die:     LLLLLLLLLLLLLLLLFFFFFFFFFFFFFFFFFFFLLLLLLLLLLLLLLLLLLLLLLLLLLLLLLLLLLLLFFFFFFFFFFFFFFFFFLLFFFFFFFFFFFFFFFFFFLL\n",
      "Viterby: LLLLLLLLLLLLLLFFFFFFFFFFFFFFFFFFFFFFFFFFFFFFFFFFFFFFFFFFFFFFFFFFFFFFFFFFFFFFFFFFFFFFFFFFFFFFFFFFFFFFFFFFFFFFFF \n",
      "\n",
      "Rolls:   66662656616616516615252266423531612663115433453444221622112115656422141621362463531553546132341566652346625611\n",
      "Die:     LLLLLLLLLLLLLFFFFFFFFFFFFFFFFFFFFFFFFFFFFFFFFFFFFFFFFFFFFLLLLLFFFFFFFFFFFFFFFLFFFFFFFFFFFFFFFFFFFFFFFFFLFFFFFF\n",
      "Viterby: FFFFFFFFFFFFFFFFFFFFFFFFFFFFFFFFFFFFFFFFFFFFFFFFFFFFFFFFFFFFFFFFFFFFFFFFFFFFFFFFFFFFFFFFFFFFFFFFFFFFFFFFFFFFFF \n",
      "\n",
      "Rolls:   55666615631446523312653335243614315534665635666636655665663641562664621251531211641413226664266621322166166326\n",
      "Die:     LLLLLLLLLLFFFLLFFFFFFFFFFFFFFFFFFFFFFFLLFFFFFLLLLLLLLLLLLLLLLLLLLLLLLFFFFFFFFFFFFFFFFFFFFFFFFFFLFFFLLLLLLLLLLL\n",
      "Viterby: FFFFFFFFFFFFFFFFFFFFFFFFFFFFFFFFFFFFFFFFFFFFFFFFFFFFFFFFFFFFFFFFFFFFFFFFFFFFFFFFFFFFFFFFFFFFFFFFFFFFFFFFFFFFFF \n",
      "\n",
      "Rolls:   46114446656266662614545312112665254265665612662165666211666632345253441562523356521335466512665656352452252264\n",
      "Die:     LLLLLLLLLLLLLLLLLLLFFFFFFFFFLLLFFFFLLLLLLFFFFLLLLLLLLFLLLLLLFFFFFFFFFFFLLFFFFFFFFFFFFLLLLLLLFLLLFFFFFFFFFFFFFF\n",
      "Viterby: FFFFFFFFFFFFFFFFFFFFFFFFFFFFFFFFFFFFFFFFFFFFFFFFFFFFFFFFFFFFFFFFFFFFFFFFFFFFFFFFFFFFFFFFFFFFFFFFFFFFFFFFFFFFFF \n",
      "\n",
      "Rolls:   46264354136126425414344162611665621221615162662616526345244553531113132665616664526666166164131352522445132326\n",
      "Die:     FFFFFFFFFLLLLLFFFLFFFFFFFFLLLLFFFFFFFFFFFFLLLLLLLFFFFFFFFFFFFFFFFFFFFFLLLLLLLLLLLLLLLLLLFFFFFFFFFFFFFFFFFFFFFF\n",
      "Viterby: FFFFFFFFFFFFFFFFFFFFFFFFFFFFFFFFFFFFFFFFFFFFFFFFFFFFFFFFFFFFFFFFFFFFFFFFFFFFFFFFFFFFFFFFFFFFFFFFFFFFFFFFFFFFFF \n",
      "\n",
      "Rolls:   13245633256656656226626435561235423232264634222545316142325636661463662666564464221664543236424631366663232361\n",
      "Die:     FFFFFLLLLLLLLLLLLLLLLLLFFFFFFFFFFFFFFFFFFFFFFFFFFFFFFFFLLLLLFFLLLLLLLLLLLLLFFFFFFFFFFFFFFLLLLLLLLLLLLLLLLLLLLL\n",
      "Viterby: FFFFFFFFFFFFFFFFFFFFFFFFFFFFFFFFFFFFFFFFFFFFFFFFFFFFFFFFFFFFFFFFFFFFFFFFFFFFFFFFFFFFFFFFFFFFFFFFFFFFFFFFFFFFFF \n",
      "\n",
      "Rolls:   6433314233\n",
      "Die:     LLFFFFFFFF\n",
      "Viterby: FFFFFFFFFF\n",
      "\n",
      "Частота совпадения: 0.655\n"
     ]
    }
   ],
   "source": [
    "L = 1000\n",
    "Die, Rolls = Observation(A, E, L)\n",
    "Viterby = Algorithm_Viterby(Rolls, A, E)\n",
    "print_model_Viterby(Die, Rolls, Viterby, 110)"
   ]
  },
  {
   "cell_type": "markdown",
   "metadata": {},
   "source": [
    "**АЛГОРИТМ АПОСТЕРИОРНОГО ДЕШИФРОВАНИЯ**"
   ]
  },
  {
   "cell_type": "markdown",
   "metadata": {},
   "source": [
    "Функции, необходимые для реализации алгоритма апостериорного дешифрования"
   ]
  },
  {
   "cell_type": "code",
   "execution_count": 7,
   "metadata": {
    "collapsed": true
   },
   "outputs": [],
   "source": [
    "# Алгоритм просмотра вперед\n",
    "# Входные параметры: массив наблюдений, матрица переходных вероятностей, матрица эмиссий\n",
    "# Выходной параметр: нормированная результирущая матрица, нормированная вероятность наблюдения, вектор нормировочных коэффициентов\n",
    "def Forward_algoritm(Rolls, A, E):\n",
    "    L = len(Rolls) \n",
    "    M = len(E)\n",
    "    X = stationary_distribution(A)\n",
    "    F = np.zeros((M, L))\n",
    "    m_f = np.zeros(L)\n",
    "    F[:,0] = X*E[:, Rolls[0]-1]\n",
    "    m_f[0] = max(F[:, 0])\n",
    "    F[:, 0] /= m_f[0]\n",
    "    for i in range(1, L):\n",
    "        for j in range(M):\n",
    "            F[j,i] = E[j, Rolls[i]-1]*sum(F[:, i-1]*A[:, j])\n",
    "        m_f[i] = max(F[:,i])\n",
    "        F[:,i] /= m_f[i]\n",
    "    P_f = sum(F[:,-1]) \n",
    "    return F, P_f, m_f\n",
    "\n",
    "# Алгоритм просмотра назад\n",
    "# Входные параметры: массив наблюдений, матрица переходных вероятностей, матрица эмиссий\n",
    "# Выходной параметр: нормированная результирущая матрица, нормированная вероятность наблюдения, вектор нормировочных коэффициентов\n",
    "def Backward_algoritm(Rolls, A, E):\n",
    "    L = len(Rolls) \n",
    "    M = len(E)\n",
    "    X = stationary_distribution(A)\n",
    "    B = np.zeros((M, L))\n",
    "    m_b = np.zeros(L)\n",
    "    B[:,-1] = np.array([1,1])\n",
    "    m_b[-1] = 1\n",
    "    for i in range(L-2, -1, -1):\n",
    "        for j in range(M):\n",
    "            B[j,i] = sum(B[:,i+1]*A[j]*E[:,Rolls[i+1]-1])\n",
    "        m_b[i] = max(B[:,i])\n",
    "        B[:,i] /= m_b[i]\n",
    "    P_b = sum(B[:,0]*X*E[:,Rolls[0]-1])\n",
    "    return B, P_b, m_b\n",
    "\n",
    "# Алгоритм проверки равенства вероятностей алгоритмов просмотра вперед и назад\n",
    "# Входные параметры: нормированные вероятности наблюдения и вектора нормировочных коэффициентов алгоритма просмтора вперед и назад\n",
    "# Выходной параметр: True - вероятности равны, False - вероятности не равны\n",
    "def Check_Forward_and_Backward_algorithms(P_f, P_b, m_f, m_b):\n",
    "    print('Вероятности наблюдений алгоритмов равны:', np.isclose((np.log(P_f) + sum(np.log(m_f))),(np.log(P_b) + sum(np.log(m_b)))))\n",
    "\n",
    "# Алгоритм просмотра назад\n",
    "# Входные параметры: нормированные результирущие матрицы алгоритмов вперед и назад, нормированная вероятность наблюдения, \n",
    "# вектора нормировочных коэффициентов алгоритмов вперед и назад\n",
    "# Выходной параметр: результирущая матрица, определяющая вероятность состояний\n",
    "def Aposterior_algorithm(F, B, P, m_f, m_b):\n",
    "    L = len(F)\n",
    "    Result = np.zeros(L)\n",
    "    for i in range(L):\n",
    "        Result[i] = np.log(F[i]) + sum(np.log(m_f[:i+1])) + np.log(B[i]) + sum(np.log(m_b[i:])) - np.log(P) - sum(np.log(m_f))\n",
    "    return np.exp(Result)\n",
    "\n",
    "# Функция печати вероятности выпадения состояния\n",
    "# Входные параметры: нормированные результирущие матрицы алгоритмов вперед и назад, нормированная вероятность наблюдения, \n",
    "# вектора нормировочных коэффициентов алгоритмов вперед и назад\n",
    "# Выходной параметр: график вероятности состояния\n",
    "def print_model_Aposterior(Aposterior, Die):\n",
    "    L = len(Aposterior)\n",
    "    fig, ax = plt.subplots()\n",
    "    x_plot = np.arange(L)\n",
    "    y_plot = Aposterior\n",
    "    for i in range(0,L):\n",
    "        if Die[i]==1:\n",
    "            ax.vlines(i,0,1,linewidth = 1000/L, color = 'lightgrey')\n",
    "    ax.plot(x_plot, y_plot)\n",
    "    fig.set_figwidth(12)\n",
    "    fig.set_figheight(2)\n",
    "    fig.set_facecolor('floralwhite')\n",
    "    ax.set_ylabel('P(правильная)')\n",
    "    plt.show()"
   ]
  },
  {
   "cell_type": "markdown",
   "metadata": {},
   "source": [
    "Переменные, необходимые для тестирования алгоритма апостериорных вероятностей.  \n",
    "А - матрица переходных вероятностей  \n",
    "E - матрица эмиссий  "
   ]
  },
  {
   "cell_type": "code",
   "execution_count": 8,
   "metadata": {
    "collapsed": false
   },
   "outputs": [
    {
     "name": "stdout",
     "output_type": "stream",
     "text": [
      "A:\n",
      "[[ 0.95  0.05]\n",
      " [ 0.1   0.9 ]]\n",
      "E:\n",
      "[[ 0.16666667  0.16666667  0.16666667  0.16666667  0.16666667  0.16666667]\n",
      " [ 0.1         0.1         0.1         0.1         0.1         0.5       ]]\n"
     ]
    }
   ],
   "source": [
    "A = np.array([[0.95,0.05],[0.1,0.9]])\n",
    "E = np.array([[1/6,1/6,1/6,1/6,1/6,1/6],[0.1,0.1,0.1,0.1,0.1,0.5]])\n",
    "print('A:', A, 'E:', E, sep = '\\n')"
   ]
  },
  {
   "cell_type": "markdown",
   "metadata": {},
   "source": [
    "Изображение результатов алгоритма Витерби для последовательности длиной 300  \n",
    "L - длина последовательности  \n",
    "Rolls - массив наблюдений  \n",
    "По оси абсцисс - порядковый номер наблюдения  \n",
    "По оси ординат - верояность состояния 0 (вероятность честной кости)  \n",
    "Серым обозначены действительные моменты состояния 1 (нечестная кость)"
   ]
  },
  {
   "cell_type": "code",
   "execution_count": 9,
   "metadata": {
    "collapsed": false
   },
   "outputs": [
    {
     "name": "stdout",
     "output_type": "stream",
     "text": [
      "Вероятности наблюдений алгоритмов равны: True\n"
     ]
    },
    {
     "data": {
      "image/png": "[encoded data removed]",
      "text/plain": [
       "<matplotlib.figure.Figure at 0xc6fad6f208>"
      ]
     },
     "metadata": {},
     "output_type": "display_data"
    }
   ],
   "source": [
    "L = 300\n",
    "Die, Rolls = Observation(A, E, L)\n",
    "Forward, P_x_f, m_f = Forward_algoritm(Rolls, A, E)\n",
    "Backward, P_x_b, m_b = Backward_algoritm(Rolls, A, E)\n",
    "Check_Forward_and_Backward_algorithms(P_x_f, P_x_b, m_f, m_b)\n",
    "Aposterior = Aposterior_algorithm(Forward[0],Backward[0], P_x_f, m_f, m_b)\n",
    "print_model_Aposterior(Aposterior, Die)"
   ]
  },
  {
   "cell_type": "markdown",
   "metadata": {},
   "source": [
    "Изображение результатов алгоритма Витерби для последовательности длиной 300  \n",
    "L - длина последовательности  \n",
    "Rolls - массив наблюдений  \n",
    "По оси абсцисс - порядковый номер наблюдения  \n",
    "По оси ординат - верояность состояния 0 (вероятность честной кости)  \n",
    "Серым обозначены действительные моменты состояния 1 (нечестная кость)"
   ]
  },
  {
   "cell_type": "code",
   "execution_count": 10,
   "metadata": {
    "collapsed": false
   },
   "outputs": [
    {
     "name": "stdout",
     "output_type": "stream",
     "text": [
      "Вероятности наблюдений алгоритмов равны: True\n"
     ]
    },
    {
     "data": {
      "image/png": "[encoded data removed]",
      "text/plain": [
       "<matplotlib.figure.Figure at 0xc6fad6fe10>"
      ]
     },
     "metadata": {},
     "output_type": "display_data"
    }
   ],
   "source": [
    "L = 1000\n",
    "Die, Rolls = Observation(A, E, L)\n",
    "Forward, P_x_f, m_f = Forward_algoritm(Rolls, A, E)\n",
    "Backward, P_x_b, m_b = Backward_algoritm(Rolls, A, E)\n",
    "Check_Forward_and_Backward_algorithms(P_x_f, P_x_b, m_f, m_b)\n",
    "Aposterior = Aposterior_algorithm(Forward[0],Backward[0], P_x_f, m_f, m_b)\n",
    "print_model_Aposterior(Aposterior, Die)"
   ]
  },
  {
   "cell_type": "markdown",
   "metadata": {},
   "source": [
    "**АЛГОРИТМ БАУМА-ВЕЛША**"
   ]
  },
  {
   "cell_type": "code",
   "execution_count": 11,
   "metadata": {
    "collapsed": true
   },
   "outputs": [],
   "source": [
    "# Функция нахождения суммы двух чисел в логарифмическом пространстве\n",
    "# Входные параметры: логарфмы двух чисел\n",
    "# Выходной параметр: логарифм суммы двух чисел\n",
    "def logsum(x,y):\n",
    "     return x + np.log(1 + np.exp(y-x))\n",
    "\n",
    "# Функция нормирования матриц по строкам (сумма по строке матрицы равна 1)\n",
    "# Входные параметры: матрица\n",
    "# Выходной параметр: нормированная по строкам матрица\n",
    "def norm_matrix(x):\n",
    "    return (x.transpose()/sum(x.transpose())).transpose()\n",
    "\n",
    "# Функция создания п последовательностей наблюдей\n",
    "# Входные параметры: число последовательностей, длина постедовательностей, матрица переходных вероятностей, матрица эмиссий \n",
    "# Выходной параметр: массив последовательностей наблюдений\n",
    "def Rolls_create(n, L, A, E):\n",
    "    Rolls_all = np.zeros(((n, L)), dtype=int)\n",
    "    for i in range(n):\n",
    "        Rolls_all[i] = Observation(A, E, L)[1]\n",
    "    return Rolls_all\n",
    "\n",
    "# Алгоритм Баума-Велша нахождения параметров задачи\n",
    "# Входные параметры: массив последовательностей наблюдений, первоначальная матрица переходных вероятностей, \n",
    "# первоначальная матрица эмиссий, точность поиска (пороговое значение логарифма максимального правдоподобия)\n",
    "# Выходной параметр: итоговая матрица переходных вероятностей, итоговая матрица эмиссийб время работы алгоритма, число итераций\n",
    "def Baum_Welch(Rolls_all, A0, E0, eps):\n",
    "    L = len(Rolls_all[0])\n",
    "    M = len(E0)\n",
    "    R = len(E0.transpose())\n",
    "    n = len(Rolls_all)\n",
    "    start_time = time.time()\n",
    "    A_all = []\n",
    "    E_all = []\n",
    "    A_all.append(A0)\n",
    "    E_all.append(E0)\n",
    "    X = stationary_distribution(A0)\n",
    "    i = 0\n",
    "    while(1):\n",
    "        resultA1 = np.zeros((M,M))\n",
    "        resultE1 = np.zeros((M,R))\n",
    "        T = np.zeros((M, n))\n",
    "        for j in range(n):\n",
    "            resultA2 = np.zeros((M,M))\n",
    "            resultE2 = np.zeros((M,R))\n",
    "            Forward, P_x_1, m_f = Forward_algoritm(Rolls_all[j], A_all[i], E_all[i])\n",
    "            Backward, P_x_2, m_b = Backward_algoritm(Rolls_all[j], A_all[i], E_all[i])\n",
    "            log_P_x = np.log(P_x_1) + sum(np.log(m_f))\n",
    "            for k in range(L-1):\n",
    "                log_sum = (np.zeros((M,M)) + (np.log(Forward[:,k])).reshape(M,1) + sum(np.log(m_f[:k+1])) + \n",
    "                           np.log(Backward[:,k+1]) + sum(np.log(m_b[k+1:])) + np.log(E_all[i][:, Rolls_all[j][k+1]-1]) - log_P_x)\n",
    "                resultA2 = logsum(resultA2, log_sum)\n",
    "            for k in range(L):\n",
    "                resultE2[:, Rolls_all[j][k]-1] = logsum(resultE2[:, Rolls_all[j][k]-1], (np.log(Forward[:,k]) + \n",
    "                                + sum(np.log(m_f[:k+1])) + np.log(Backward[:,k]) + sum(np.log(m_b[k:])) - log_P_x))\n",
    "            T[:,j] = np.log(Forward[:,0]) + np.log(m_f[0]) + np.log(Backward[:,0]) + sum(np.log(m_b[:]))\n",
    "            resultA1 = logsum(resultA1, resultA2 + np.log(A_all[i]))\n",
    "            resultE1 = logsum(resultE1, resultE2)\n",
    "        K = T[:,0]\n",
    "        for j in range(1,n):\n",
    "            K = logsum(K, T[:,j])\n",
    "        X = norm_matrix(np.exp(K))\n",
    "        resultA1 = norm_matrix(np.exp(resultA1))\n",
    "        resultE1 = norm_matrix(np.exp(resultE1))\n",
    "        A_all.append(np.array(resultA1))\n",
    "        E_all.append(np.array(resultE1))\n",
    "        if ((sum(sum(abs(np.log(A_all[-1]/A_all[-2])) < np.ones((M,M))*eps)) + sum(sum(abs(np.log(E_all[-1]/E_all[-2])) \n",
    "                                                                                      < np.ones((M,R))*eps))) == 16):\n",
    "            break\n",
    "        i += 1\n",
    "    time_all = (time.time()-start_time)/60\n",
    "    return A_all[-1], E_all[-1], time_all, i+1\n",
    "\n",
    "# Функция печати результатов алгоритма Баума-Велша\n",
    "# Входные параметры: результаты алгоритма Baum_Welch\n",
    "# Выходной параметр: иллюстрация результатов алгоритма Baum_Welch\n",
    "def print_Baum_Welch(BW):\n",
    "    print('A:', np.around(BW[0], decimals = 2), sep = '\\n')\n",
    "    print('E:', np.around(BW[1], decimals = 2), sep = '\\n')\n",
    "    print('Время выполнения (в минутах):', BW[2])\n",
    "    print('Число итераций:', BW[3])\n",
    "    print('')"
   ]
  },
  {
   "cell_type": "markdown",
   "metadata": {},
   "source": [
    "Переменные, необходимые для тестирования алгоритма Ваума-Вэлша.  \n",
    "А - матрица переходных вероятностей  \n",
    "E - матрица эмиссий"
   ]
  },
  {
   "cell_type": "code",
   "execution_count": 12,
   "metadata": {
    "collapsed": false
   },
   "outputs": [
    {
     "name": "stdout",
     "output_type": "stream",
     "text": [
      "A:\n",
      "[[ 0.95  0.05]\n",
      " [ 0.1   0.9 ]]\n",
      "E:\n",
      "[[ 0.16666667  0.16666667  0.16666667  0.16666667  0.16666667  0.16666667]\n",
      " [ 0.1         0.1         0.1         0.1         0.1         0.5       ]]\n"
     ]
    }
   ],
   "source": [
    "A = np.array([[0.95,0.05],[0.1,0.9]])\n",
    "E = np.array([[1/6,1/6,1/6,1/6,1/6,1/6],[0.1,0.1,0.1,0.1,0.1,0.5]])\n",
    "print('A:', A, 'E:', E, sep = '\\n')"
   ]
  },
  {
   "cell_type": "markdown",
   "metadata": {},
   "source": [
    "Задание первоначальных матрицы переходных вероятностей и матрицы эмиссий"
   ]
  },
  {
   "cell_type": "code",
   "execution_count": 13,
   "metadata": {
    "collapsed": false
   },
   "outputs": [
    {
     "name": "stdout",
     "output_type": "stream",
     "text": [
      "A0:\n",
      "[[ 0.50159063  0.49840937]\n",
      " [ 0.7266524   0.2733476 ]]\n",
      "E0:\n",
      "[[ 0.25454293  0.12664416  0.19172627  0.06679335  0.32265227  0.03764102]\n",
      " [ 0.02043922  0.13124089  0.09196229  0.25142261  0.31457287  0.19036212]]\n"
     ]
    }
   ],
   "source": [
    "M = len(E)\n",
    "R = len(E.transpose())\n",
    "A0 = norm_matrix(np.random.random((M,M)))\n",
    "E0 = norm_matrix(np.random.random((M,R)))\n",
    "print('A0:', A0, 'E0:', E0, sep = '\\n')"
   ]
  },
  {
   "cell_type": "markdown",
   "metadata": {},
   "source": [
    "Нахождение параметров задачи с помощью алогритма Баума-Вэлша с различными параметрами окончания (порогого значения логарифма правдоподобия)"
   ]
  },
  {
   "cell_type": "code",
   "execution_count": 14,
   "metadata": {
    "collapsed": false
   },
   "outputs": [
    {
     "name": "stdout",
     "output_type": "stream",
     "text": [
      "eps = 0.1\n",
      "A:\n",
      "[[ 0.49  0.51]\n",
      " [ 0.6   0.4 ]]\n",
      "E:\n",
      "[[ 0.23  0.15  0.18  0.1   0.16  0.18]\n",
      " [ 0.06  0.13  0.11  0.2   0.13  0.36]]\n",
      "Время выполнения (в минутах): 0.22896433273951214\n",
      "Число итераций: 7\n",
      "\n",
      "eps = 0.05\n",
      "A:\n",
      "[[ 0.5   0.5 ]\n",
      " [ 0.59  0.41]]\n",
      "E:\n",
      "[[ 0.21  0.14  0.17  0.11  0.16  0.21]\n",
      " [ 0.08  0.14  0.12  0.19  0.14  0.33]]\n",
      "Время выполнения (в минутах): 0.3881808161735535\n",
      "Число итераций: 12\n",
      "\n",
      "eps = 0.01\n",
      "A:\n",
      "[[ 0.5   0.5 ]\n",
      " [ 0.56  0.44]]\n",
      "E:\n",
      "[[ 0.17  0.14  0.16  0.13  0.15  0.25]\n",
      " [ 0.13  0.14  0.14  0.16  0.14  0.28]]\n",
      "Время выполнения (в минутах): 1.0667678236961364\n",
      "Число итераций: 33\n",
      "\n",
      "eps = 0.005\n",
      "A:\n",
      "[[ 0.5   0.5 ]\n",
      " [ 0.56  0.44]]\n",
      "E:\n",
      "[[ 0.17  0.14  0.15  0.14  0.15  0.26]\n",
      " [ 0.14  0.14  0.14  0.16  0.15  0.27]]\n",
      "Время выполнения (в минутах): 1.489162524541219\n",
      "Число итераций: 45\n",
      "\n"
     ]
    }
   ],
   "source": [
    "n = 10\n",
    "L = 300\n",
    "eps = np.array([0.1, 0.05, 0.01, 0.005])\n",
    "Rolls_all = Rolls_create(n, L, A, E)\n",
    "for s in range(len(eps)):\n",
    "    print('eps =', eps[s])\n",
    "    BW = Baum_Welch(Rolls_all, A0, E0, eps[s])\n",
    "    print_Baum_Welch(BW)"
   ]
  },
  {
   "cell_type": "code",
   "execution_count": 15,
   "metadata": {
    "collapsed": false
   },
   "outputs": [
    {
     "name": "stdout",
     "output_type": "stream",
     "text": [
      "eps = 0.1\n"
     ]
    },
    {
     "ename": "KeyboardInterrupt",
     "evalue": "",
     "output_type": "error",
     "traceback": [
      "\u001b[1;31m---------------------------------------------------------------------------\u001b[0m",
      "\u001b[1;31mKeyboardInterrupt\u001b[0m                         Traceback (most recent call last)",
      "\u001b[1;32m<ipython-input-15-b02be4d036ae>\u001b[0m in \u001b[0;36m<module>\u001b[1;34m()\u001b[0m\n\u001b[0;32m      5\u001b[0m \u001b[1;32mfor\u001b[0m \u001b[0ms\u001b[0m \u001b[1;32min\u001b[0m \u001b[0mrange\u001b[0m\u001b[1;33m(\u001b[0m\u001b[0mlen\u001b[0m\u001b[1;33m(\u001b[0m\u001b[0meps\u001b[0m\u001b[1;33m)\u001b[0m\u001b[1;33m)\u001b[0m\u001b[1;33m:\u001b[0m\u001b[1;33m\u001b[0m\u001b[0m\n\u001b[0;32m      6\u001b[0m     \u001b[0mprint\u001b[0m\u001b[1;33m(\u001b[0m\u001b[1;34m'eps ='\u001b[0m\u001b[1;33m,\u001b[0m \u001b[0meps\u001b[0m\u001b[1;33m[\u001b[0m\u001b[0ms\u001b[0m\u001b[1;33m]\u001b[0m\u001b[1;33m)\u001b[0m\u001b[1;33m\u001b[0m\u001b[0m\n\u001b[1;32m----> 7\u001b[1;33m     \u001b[0mBW\u001b[0m \u001b[1;33m=\u001b[0m \u001b[0mBaum_Welch\u001b[0m\u001b[1;33m(\u001b[0m\u001b[0mRolls_all\u001b[0m\u001b[1;33m,\u001b[0m \u001b[0mA0\u001b[0m\u001b[1;33m,\u001b[0m \u001b[0mE0\u001b[0m\u001b[1;33m,\u001b[0m \u001b[0meps\u001b[0m\u001b[1;33m[\u001b[0m\u001b[0ms\u001b[0m\u001b[1;33m]\u001b[0m\u001b[1;33m)\u001b[0m\u001b[1;33m\u001b[0m\u001b[0m\n\u001b[0m\u001b[0;32m      8\u001b[0m     \u001b[0mprint_Baum_Welch\u001b[0m\u001b[1;33m(\u001b[0m\u001b[0mBW\u001b[0m\u001b[1;33m)\u001b[0m\u001b[1;33m\u001b[0m\u001b[0m\n",
      "\u001b[1;32m<ipython-input-11-e56a388b5110>\u001b[0m in \u001b[0;36mBaum_Welch\u001b[1;34m(Rolls_all, A0, E0, eps)\u001b[0m\n\u001b[0;32m     44\u001b[0m             \u001b[0mresultE2\u001b[0m \u001b[1;33m=\u001b[0m \u001b[0mnp\u001b[0m\u001b[1;33m.\u001b[0m\u001b[0mzeros\u001b[0m\u001b[1;33m(\u001b[0m\u001b[1;33m(\u001b[0m\u001b[0mM\u001b[0m\u001b[1;33m,\u001b[0m\u001b[0mR\u001b[0m\u001b[1;33m)\u001b[0m\u001b[1;33m)\u001b[0m\u001b[1;33m\u001b[0m\u001b[0m\n\u001b[0;32m     45\u001b[0m             \u001b[0mForward\u001b[0m\u001b[1;33m,\u001b[0m \u001b[0mP_x_1\u001b[0m\u001b[1;33m,\u001b[0m \u001b[0mm_f\u001b[0m \u001b[1;33m=\u001b[0m \u001b[0mForward_algoritm\u001b[0m\u001b[1;33m(\u001b[0m\u001b[0mRolls_all\u001b[0m\u001b[1;33m[\u001b[0m\u001b[0mj\u001b[0m\u001b[1;33m]\u001b[0m\u001b[1;33m,\u001b[0m \u001b[0mA_all\u001b[0m\u001b[1;33m[\u001b[0m\u001b[0mi\u001b[0m\u001b[1;33m]\u001b[0m\u001b[1;33m,\u001b[0m \u001b[0mE_all\u001b[0m\u001b[1;33m[\u001b[0m\u001b[0mi\u001b[0m\u001b[1;33m]\u001b[0m\u001b[1;33m)\u001b[0m\u001b[1;33m\u001b[0m\u001b[0m\n\u001b[1;32m---> 46\u001b[1;33m             \u001b[0mBackward\u001b[0m\u001b[1;33m,\u001b[0m \u001b[0mP_x_2\u001b[0m\u001b[1;33m,\u001b[0m \u001b[0mm_b\u001b[0m \u001b[1;33m=\u001b[0m \u001b[0mBackward_algoritm\u001b[0m\u001b[1;33m(\u001b[0m\u001b[0mRolls_all\u001b[0m\u001b[1;33m[\u001b[0m\u001b[0mj\u001b[0m\u001b[1;33m]\u001b[0m\u001b[1;33m,\u001b[0m \u001b[0mA_all\u001b[0m\u001b[1;33m[\u001b[0m\u001b[0mi\u001b[0m\u001b[1;33m]\u001b[0m\u001b[1;33m,\u001b[0m \u001b[0mE_all\u001b[0m\u001b[1;33m[\u001b[0m\u001b[0mi\u001b[0m\u001b[1;33m]\u001b[0m\u001b[1;33m)\u001b[0m\u001b[1;33m\u001b[0m\u001b[0m\n\u001b[0m\u001b[0;32m     47\u001b[0m             \u001b[0mlog_P_x\u001b[0m \u001b[1;33m=\u001b[0m \u001b[0mnp\u001b[0m\u001b[1;33m.\u001b[0m\u001b[0mlog\u001b[0m\u001b[1;33m(\u001b[0m\u001b[0mP_x_1\u001b[0m\u001b[1;33m)\u001b[0m \u001b[1;33m+\u001b[0m \u001b[0msum\u001b[0m\u001b[1;33m(\u001b[0m\u001b[0mnp\u001b[0m\u001b[1;33m.\u001b[0m\u001b[0mlog\u001b[0m\u001b[1;33m(\u001b[0m\u001b[0mm_f\u001b[0m\u001b[1;33m)\u001b[0m\u001b[1;33m)\u001b[0m\u001b[1;33m\u001b[0m\u001b[0m\n\u001b[0;32m     48\u001b[0m             \u001b[1;32mfor\u001b[0m \u001b[0mk\u001b[0m \u001b[1;32min\u001b[0m \u001b[0mrange\u001b[0m\u001b[1;33m(\u001b[0m\u001b[0mL\u001b[0m\u001b[1;33m-\u001b[0m\u001b[1;36m1\u001b[0m\u001b[1;33m)\u001b[0m\u001b[1;33m:\u001b[0m\u001b[1;33m\u001b[0m\u001b[0m\n",
      "\u001b[1;32m<ipython-input-7-2b97fad694cc>\u001b[0m in \u001b[0;36mBackward_algoritm\u001b[1;34m(Rolls, A, E)\u001b[0m\n\u001b[0;32m     34\u001b[0m             \u001b[0mB\u001b[0m\u001b[1;33m[\u001b[0m\u001b[0mj\u001b[0m\u001b[1;33m,\u001b[0m\u001b[0mi\u001b[0m\u001b[1;33m]\u001b[0m \u001b[1;33m=\u001b[0m \u001b[0msum\u001b[0m\u001b[1;33m(\u001b[0m\u001b[0mB\u001b[0m\u001b[1;33m[\u001b[0m\u001b[1;33m:\u001b[0m\u001b[1;33m,\u001b[0m\u001b[0mi\u001b[0m\u001b[1;33m+\u001b[0m\u001b[1;36m1\u001b[0m\u001b[1;33m]\u001b[0m\u001b[1;33m*\u001b[0m\u001b[0mA\u001b[0m\u001b[1;33m[\u001b[0m\u001b[0mj\u001b[0m\u001b[1;33m]\u001b[0m\u001b[1;33m*\u001b[0m\u001b[0mE\u001b[0m\u001b[1;33m[\u001b[0m\u001b[1;33m:\u001b[0m\u001b[1;33m,\u001b[0m\u001b[0mRolls\u001b[0m\u001b[1;33m[\u001b[0m\u001b[0mi\u001b[0m\u001b[1;33m+\u001b[0m\u001b[1;36m1\u001b[0m\u001b[1;33m]\u001b[0m\u001b[1;33m-\u001b[0m\u001b[1;36m1\u001b[0m\u001b[1;33m]\u001b[0m\u001b[1;33m)\u001b[0m\u001b[1;33m\u001b[0m\u001b[0m\n\u001b[0;32m     35\u001b[0m         \u001b[0mm_b\u001b[0m\u001b[1;33m[\u001b[0m\u001b[0mi\u001b[0m\u001b[1;33m]\u001b[0m \u001b[1;33m=\u001b[0m \u001b[0mmax\u001b[0m\u001b[1;33m(\u001b[0m\u001b[0mB\u001b[0m\u001b[1;33m[\u001b[0m\u001b[1;33m:\u001b[0m\u001b[1;33m,\u001b[0m\u001b[0mi\u001b[0m\u001b[1;33m]\u001b[0m\u001b[1;33m)\u001b[0m\u001b[1;33m\u001b[0m\u001b[0m\n\u001b[1;32m---> 36\u001b[1;33m         \u001b[0mB\u001b[0m\u001b[1;33m[\u001b[0m\u001b[1;33m:\u001b[0m\u001b[1;33m,\u001b[0m\u001b[0mi\u001b[0m\u001b[1;33m]\u001b[0m \u001b[1;33m/=\u001b[0m \u001b[0mm_b\u001b[0m\u001b[1;33m[\u001b[0m\u001b[0mi\u001b[0m\u001b[1;33m]\u001b[0m\u001b[1;33m\u001b[0m\u001b[0m\n\u001b[0m\u001b[0;32m     37\u001b[0m     \u001b[0mP_b\u001b[0m \u001b[1;33m=\u001b[0m \u001b[0msum\u001b[0m\u001b[1;33m(\u001b[0m\u001b[0mB\u001b[0m\u001b[1;33m[\u001b[0m\u001b[1;33m:\u001b[0m\u001b[1;33m,\u001b[0m\u001b[1;36m0\u001b[0m\u001b[1;33m]\u001b[0m\u001b[1;33m*\u001b[0m\u001b[0mX\u001b[0m\u001b[1;33m*\u001b[0m\u001b[0mE\u001b[0m\u001b[1;33m[\u001b[0m\u001b[1;33m:\u001b[0m\u001b[1;33m,\u001b[0m\u001b[0mRolls\u001b[0m\u001b[1;33m[\u001b[0m\u001b[1;36m0\u001b[0m\u001b[1;33m]\u001b[0m\u001b[1;33m-\u001b[0m\u001b[1;36m1\u001b[0m\u001b[1;33m]\u001b[0m\u001b[1;33m)\u001b[0m\u001b[1;33m\u001b[0m\u001b[0m\n\u001b[0;32m     38\u001b[0m     \u001b[1;32mreturn\u001b[0m \u001b[0mB\u001b[0m\u001b[1;33m,\u001b[0m \u001b[0mP_b\u001b[0m\u001b[1;33m,\u001b[0m \u001b[0mm_b\u001b[0m\u001b[1;33m\u001b[0m\u001b[0m\n",
      "\u001b[1;31mKeyboardInterrupt\u001b[0m: "
     ]
    }
   ],
   "source": [
    "n = 100\n",
    "L = 300\n",
    "eps = np.array([0.1, 0.05, 0.01, 0.005, 0.001])\n",
    "Rolls_all = Rolls_create(n, L, A, E)\n",
    "for s in range(len(eps)):\n",
    "    print('eps =', eps[s])\n",
    "    BW = Baum_Welch(Rolls_all, A0, E0, eps[s])\n",
    "    print_Baum_Welch(BW)"
   ]
  },
  {
   "cell_type": "code",
   "execution_count": null,
   "metadata": {
    "collapsed": false
   },
   "outputs": [],
   "source": [
    "n = 10\n",
    "L = 1000\n",
    "eps = np.array([0.1, 0.05, 0.01, 0.005, 0.001])\n",
    "Rolls_all = Rolls_create(n, L, A, E)\n",
    "for s in range(len(eps)):\n",
    "    print('eps =', eps[s])\n",
    "    BW = Baum_Welch(Rolls_all, A0, E0, eps[s])\n",
    "    print_Baum_Welch(BW)"
   ]
  },
  {
   "cell_type": "markdown",
   "metadata": {},
   "source": [
    "**ПРОВЕРКА АЛГОРИТМОВ ВИТЕРБИ И АПОСТЕРИОРНОГО ДЕШИФРОВАНИЯ ПО ПРИМЕРАМ ИЗ УЧЕБНИКА**"
   ]
  },
  {
   "cell_type": "code",
   "execution_count": null,
   "metadata": {
    "collapsed": false
   },
   "outputs": [],
   "source": [
    "Rolls_str = ('315116246446644245311321631164152133625144543631656626566666651166453132651245636664631636663162326455236266666625151631222555441666566563564324364131513465146353411126414626253356366163666366232535513661661163252562462255265252266435353336233121625364414432335163243633665562466662632666612355245242')\n",
    "Die_str = ('000000000000000000000000000000000000000000000111111111111111111111000000000000111111111111111100011111111111111000000000000000001111111111111000000000000000000000000000000000000011111111110000000000000000000000000000000000000000000000000000000000000000000000000000000111111111111111111111100000000000')\n",
    "L = len(Rolls_str)\n",
    "Rolls = np.zeros((L,), dtype=int)\n",
    "Die = np.zeros((L,), dtype=int)\n",
    "for i in range(L):\n",
    "    Rolls[i] = Rolls_str.split()[0][i]\n",
    "    Die[i] = Die_str.split()[0][i]\n",
    "Viterby = Algorithm_Viterby(Rolls, A, E)\n",
    "print_model_Viterby(Die, Rolls, Viterby, 60)"
   ]
  },
  {
   "cell_type": "code",
   "execution_count": null,
   "metadata": {
    "collapsed": false,
    "scrolled": true
   },
   "outputs": [],
   "source": [
    "Image(filename= r'C:\\Viterby.png')"
   ]
  },
  {
   "cell_type": "code",
   "execution_count": null,
   "metadata": {
    "collapsed": false
   },
   "outputs": [],
   "source": [
    "Forward, P_x_1, m_f = Forward_algoritm(Rolls, A, E)\n",
    "Backward, P_x_2, m_b = Backward_algoritm(Rolls, A, E)\n",
    "Aposterior = Aposterior_algorithm(Forward[0],Backward[0],P_x_1, m_f, m_b)\n",
    "print_model_Aposterior(Aposterior, Die)"
   ]
  },
  {
   "cell_type": "code",
   "execution_count": null,
   "metadata": {
    "collapsed": false
   },
   "outputs": [],
   "source": [
    "Image(filename= r'C:\\Aposterior.png')"
   ]
  },
  {
   "cell_type": "code",
   "execution_count": null,
   "metadata": {
    "collapsed": true
   },
   "outputs": [],
   "source": []
  }
 ],
 "metadata": {
  "kernelspec": {
   "display_name": "Python 3",
   "language": "python",
   "name": "python3"
  },
  "language_info": {
   "codemirror_mode": {
    "name": "ipython",
    "version": 3
   },
   "file_extension": ".py",
   "mimetype": "text/x-python",
   "name": "python",
   "nbconvert_exporter": "python",
   "pygments_lexer": "ipython3",
   "version": "3.5.1"
  }
 },
 "nbformat": 4,
 "nbformat_minor": 0
}
